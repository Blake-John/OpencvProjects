{
 "cells": [
  {
   "cell_type": "code",
   "execution_count": 7,
   "metadata": {},
   "outputs": [],
   "source": [
    "import numpy as np\n",
    "import cv2\n",
    "import pickle"
   ]
  },
  {
   "cell_type": "code",
   "execution_count": 8,
   "metadata": {},
   "outputs": [],
   "source": [
    "width = 640\n",
    "height = 480\n",
    "cap = cv2.VideoCapture (0)"
   ]
  },
  {
   "cell_type": "code",
   "execution_count": 9,
   "metadata": {},
   "outputs": [
    {
     "ename": "EOFError",
     "evalue": "Ran out of input",
     "output_type": "error",
     "traceback": [
      "\u001b[1;31m---------------------------------------------------------------------------\u001b[0m",
      "\u001b[1;31mEOFError\u001b[0m                                  Traceback (most recent call last)",
      "Cell \u001b[1;32mIn[9], line 2\u001b[0m\n\u001b[0;32m      1\u001b[0m pickle_in \u001b[38;5;241m=\u001b[39m \u001b[38;5;28mopen\u001b[39m (\u001b[38;5;124m\"\u001b[39m\u001b[38;5;124mmodel_trained.p\u001b[39m\u001b[38;5;124m\"\u001b[39m, \u001b[38;5;124m\"\u001b[39m\u001b[38;5;124mrb\u001b[39m\u001b[38;5;124m\"\u001b[39m)\n\u001b[1;32m----> 2\u001b[0m model \u001b[38;5;241m=\u001b[39m \u001b[43mpickle\u001b[49m\u001b[38;5;241;43m.\u001b[39;49m\u001b[43mload\u001b[49m\u001b[43m \u001b[49m\u001b[43m(\u001b[49m\u001b[43mpickle_in\u001b[49m\u001b[43m)\u001b[49m\n\u001b[0;32m      4\u001b[0m \u001b[38;5;28;01mdef\u001b[39;00m \u001b[38;5;21mpreProcessing\u001b[39m (img) :\n\u001b[0;32m      5\u001b[0m \u001b[38;5;250m    \u001b[39m\u001b[38;5;124;03m\"\"\"\u001b[39;00m\n\u001b[0;32m      6\u001b[0m \u001b[38;5;124;03m    the function is to preprocess the imgs\u001b[39;00m\n\u001b[0;32m      7\u001b[0m \u001b[38;5;124;03m    1. convert it into gray scale\u001b[39;00m\n\u001b[0;32m      8\u001b[0m \u001b[38;5;124;03m    2. equalize the img to a normal light\u001b[39;00m\n\u001b[0;32m      9\u001b[0m \u001b[38;5;124;03m    3. normalize the img\u001b[39;00m\n\u001b[0;32m     10\u001b[0m \u001b[38;5;124;03m    \"\"\"\u001b[39;00m\n",
      "\u001b[1;31mEOFError\u001b[0m: Ran out of input"
     ]
    }
   ],
   "source": [
    "pickle_in = open (\"model_trained.p\", \"rb\")\n",
    "model = pickle.load (pickle_in)\n",
    "\n",
    "def preProcessing (img) :\n",
    "    \"\"\"\n",
    "    the function is to preprocess the imgs\n",
    "    1. convert it into gray scale\n",
    "    2. equalize the img to a normal light\n",
    "    3. normalize the img\n",
    "    \"\"\"\n",
    "    img = cv2.cvtColor (img, cv2.COLOR_BGR2GRAY)\n",
    "    # to equalize the images, get the light be equaled\n",
    "    img = cv2.equalizeHist (img)\n",
    "    # get the img normalized, setting the value within 0 to 1\n",
    "    img = img / 255\n",
    "    \n",
    "    return img\n",
    "\n",
    "while True :\n",
    "    _, imgoriginal = cap.read ()\n",
    "    img = np.asarray (imgoriginal)\n",
    "    img = cv2.resize (img, (32, 32))\n",
    "    img = preProcessing (img)\n",
    "    cv2.imshow (\"Cam\", img)\n",
    "    if cv2.waitKey(10) == 27 :\n",
    "        break"
   ]
  }
 ],
 "metadata": {
  "kernelspec": {
   "display_name": "tensorflow",
   "language": "python",
   "name": "python3"
  },
  "language_info": {
   "codemirror_mode": {
    "name": "ipython",
    "version": 3
   },
   "file_extension": ".py",
   "mimetype": "text/x-python",
   "name": "python",
   "nbconvert_exporter": "python",
   "pygments_lexer": "ipython3",
   "version": "3.8.0"
  }
 },
 "nbformat": 4,
 "nbformat_minor": 2
}
