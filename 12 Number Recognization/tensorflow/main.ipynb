{
 "cells": [
  {
   "cell_type": "code",
   "execution_count": 80,
   "metadata": {},
   "outputs": [],
   "source": [
    "import tensorflow\n",
    "import cv2\n",
    "import numpy as np\n",
    "import matplotlib.pyplot as plt\n",
    "import os\n",
    "from sklearn.model_selection import train_test_split\n",
    "from keras.preprocessing.image import ImageDataGenerator\n",
    "from keras.src.utils.np_utils import to_categorical\n",
    "import keras\n",
    "import pickle"
   ]
  },
  {
   "cell_type": "markdown",
   "metadata": {},
   "source": [
    "# 01 set the parameters"
   ]
  },
  {
   "cell_type": "code",
   "execution_count": 81,
   "metadata": {},
   "outputs": [
    {
     "name": "stdout",
     "output_type": "stream",
     "text": [
      "Total number of classes detected :  10\n",
      "['0', '1', '2', '3', '4', '5', '6', '7', '8', '9']\n"
     ]
    }
   ],
   "source": [
    "images =[]\n",
    "classNum = []\n",
    "path = \"./myData\"\n",
    "myLists = os.listdir (path)\n",
    "print (\"Total number of classes detected : \",len (myLists))\n",
    "print (myLists)\n",
    "test_ratio = 0.2\n",
    "validation_ratio = 0.2\n",
    "imgDimension = (32, 32, 3)\n",
    "BATCH_SIZE = 64\n",
    "EPOCH = 20\n",
    "STEPSPEREPOCH = 2000"
   ]
  },
  {
   "cell_type": "markdown",
   "metadata": {},
   "source": [
    "# 02 import the imgs from the datasets"
   ]
  },
  {
   "cell_type": "code",
   "execution_count": 82,
   "metadata": {},
   "outputs": [
    {
     "name": "stdout",
     "output_type": "stream",
     "text": [
      "Importing classes\n",
      "0 1 2 3 4 5 6 7 8 9 "
     ]
    }
   ],
   "source": [
    "print (\"Importing classes\")\n",
    "for i in range (len (myLists)) :\n",
    "    myPicList = os.listdir (path + '/' + str (i))\n",
    "    for j in myPicList :\n",
    "        curImg = cv2.imread (f\"{path}/{str (i)}/{j}\")\n",
    "        curImg = cv2.resize (curImg, (imgDimension[0], imgDimension[1]))\n",
    "        images.append (curImg)\n",
    "        classNum.append (i)\n",
    "    print (i, end=\" \")\n",
    "    "
   ]
  },
  {
   "cell_type": "markdown",
   "metadata": {},
   "source": [
    "# 03 turn the imgs into the numpy array"
   ]
  },
  {
   "cell_type": "code",
   "execution_count": 83,
   "metadata": {},
   "outputs": [
    {
     "name": "stdout",
     "output_type": "stream",
     "text": [
      "(10160, 32, 32, 3)\n",
      "(10160,)\n"
     ]
    }
   ],
   "source": [
    "images = np.array (images)\n",
    "classNum = np.array (classNum)\n",
    "print (images.shape)\n",
    "print (classNum.shape)"
   ]
  },
  {
   "cell_type": "markdown",
   "metadata": {},
   "source": [
    "# 04 split the data into train, test and validation"
   ]
  },
  {
   "cell_type": "markdown",
   "metadata": {},
   "source": [
    "## 4.1 get the dataset splited"
   ]
  },
  {
   "cell_type": "code",
   "execution_count": 84,
   "metadata": {},
   "outputs": [
    {
     "name": "stdout",
     "output_type": "stream",
     "text": [
      "(8128, 32, 32, 3)\n",
      "(2032, 32, 32, 3)\n",
      "(6502, 32, 32, 3)\n",
      "(1626, 32, 32, 3)\n"
     ]
    }
   ],
   "source": [
    "x_train, x_test = train_test_split (images, test_size=test_ratio)\n",
    "y_train, y_test = train_test_split(classNum,test_size=test_ratio)\n",
    "# test_size is the ratio of the test_date, train_size will automatically set to the complement of the test_size\n",
    "\n",
    "print (x_train.shape)\n",
    "print (x_test.shape)\n",
    "\n",
    "x_train, x_validation = train_test_split (x_train, test_size=validation_ratio)\n",
    "y_train, y_validation = train_test_split (y_train, test_size=validation_ratio)\n",
    "print (x_train.shape)\n",
    "print (x_validation.shape)"
   ]
  },
  {
   "cell_type": "code",
   "execution_count": 85,
   "metadata": {},
   "outputs": [
    {
     "name": "stdout",
     "output_type": "stream",
     "text": [
      "(array([   9,   10,   18,   25,   54,   86,   99,  106,  111,  112,  117,\n",
      "        122,  133,  167,  182,  183,  186,  193,  214,  228,  233,  237,\n",
      "        287,  294,  316,  325,  340,  353,  355,  356,  364,  379,  380,\n",
      "        389,  392,  400,  405,  426,  435,  442,  461,  465,  467,  469,\n",
      "        473,  490,  499,  502,  507,  528,  536,  555,  567,  575,  579,\n",
      "        581,  582,  586,  608,  617,  619,  622,  632,  635,  649,  656,\n",
      "        659,  671,  677,  687,  694,  720,  725,  733,  734,  744,  745,\n",
      "        759,  760,  763,  775,  793,  795,  817,  837,  840,  850,  858,\n",
      "        865,  866,  871,  890,  892,  906,  925,  939,  951,  957,  962,\n",
      "        977,  981,  987, 1003, 1006, 1008, 1015, 1016, 1031, 1051, 1054,\n",
      "       1071, 1073, 1077, 1103, 1109, 1113, 1119, 1120, 1130, 1149, 1160,\n",
      "       1170, 1181, 1189, 1196, 1207, 1213, 1219, 1225, 1226, 1235, 1250,\n",
      "       1258, 1274, 1292, 1307, 1329, 1335, 1339, 1366, 1390, 1409, 1415,\n",
      "       1424, 1427, 1428, 1432, 1442, 1447, 1450, 1478, 1487, 1491, 1493,\n",
      "       1499, 1508, 1509, 1511, 1516, 1531, 1540, 1541, 1543, 1556, 1565,\n",
      "       1569, 1572, 1573, 1579, 1588, 1594, 1600, 1607, 1616, 1618, 1626,\n",
      "       1631, 1637, 1670, 1681, 1695, 1699, 1703, 1708, 1723, 1728, 1730,\n",
      "       1742, 1754, 1756, 1774, 1780, 1790, 1800, 1814, 1830, 1840, 1850,\n",
      "       1867, 1869, 1877, 1882, 1886, 1888, 1905, 1907, 1917, 1950, 1964,\n",
      "       1969, 1970, 1975, 1986, 2016, 2018, 2034, 2046, 2049, 2050, 2054,\n",
      "       2061, 2062, 2067, 2093, 2099, 2131, 2150, 2154, 2174, 2188, 2200,\n",
      "       2201, 2216, 2220, 2239, 2246, 2248, 2254, 2259, 2262, 2275, 2277,\n",
      "       2282, 2291, 2293, 2294, 2297, 2331, 2345, 2373, 2383, 2400, 2412,\n",
      "       2418, 2423, 2445, 2446, 2451, 2459, 2460, 2469, 2472, 2474, 2499,\n",
      "       2512, 2518, 2530, 2531, 2536, 2567, 2597, 2604, 2607, 2622, 2638,\n",
      "       2655, 2656, 2664, 2667, 2675, 2683, 2697, 2703, 2726, 2735, 2740,\n",
      "       2751, 2756, 2773, 2793, 2797, 2807, 2825, 2835, 2858, 2859, 2863,\n",
      "       2879, 2902, 2906, 2920, 2936, 2938, 2960, 2978, 2979, 2990, 2995,\n",
      "       3001, 3024, 3025, 3028, 3030, 3039, 3040, 3053, 3056, 3057, 3060,\n",
      "       3067, 3105, 3108, 3129, 3141, 3149, 3162, 3175, 3176, 3199, 3201,\n",
      "       3210, 3213, 3234, 3242, 3247, 3263, 3277, 3284, 3285, 3286, 3306,\n",
      "       3319, 3322, 3327, 3335, 3337, 3352, 3353, 3361, 3388, 3392, 3401,\n",
      "       3404, 3410, 3411, 3425, 3430, 3431, 3437, 3438, 3444, 3447, 3450,\n",
      "       3465, 3470, 3496, 3499, 3502, 3513, 3519, 3529, 3548, 3550, 3558,\n",
      "       3575, 3582, 3604, 3622, 3662, 3669, 3688, 3689, 3694, 3707, 3722,\n",
      "       3738, 3741, 3760, 3766, 3775, 3785, 3787, 3805, 3808, 3834, 3842,\n",
      "       3859, 3871, 3880, 3901, 3902, 3914, 3918, 3931, 3933, 3953, 3973,\n",
      "       3993, 4000, 4005, 4006, 4010, 4012, 4025, 4028, 4039, 4049, 4119,\n",
      "       4127, 4133, 4157, 4169, 4177, 4182, 4183, 4199, 4201, 4202, 4205,\n",
      "       4234, 4243, 4246, 4248, 4252, 4253, 4266, 4270, 4285, 4291, 4292,\n",
      "       4293, 4305, 4308, 4335, 4354, 4355, 4356, 4357, 4376, 4381, 4395,\n",
      "       4404, 4407, 4409, 4440, 4449, 4455, 4464, 4470, 4472, 4482, 4512,\n",
      "       4520, 4524, 4527, 4530, 4541, 4549, 4563, 4573, 4577, 4588, 4602,\n",
      "       4603, 4605, 4607, 4612, 4618, 4628, 4629, 4653, 4676, 4678, 4686,\n",
      "       4693, 4704, 4710, 4717, 4726, 4739, 4740, 4759, 4763, 4766, 4776,\n",
      "       4777, 4779, 4780, 4788, 4790, 4795, 4802, 4817, 4823, 4825, 4832,\n",
      "       4837, 4841, 4848, 4857, 4858, 4859, 4863, 4903, 4913, 4919, 4952,\n",
      "       4955, 4965, 4968, 4976, 5001, 5021, 5047, 5099, 5117, 5141, 5145,\n",
      "       5148, 5151, 5160, 5167, 5170, 5205, 5209, 5224, 5228, 5229, 5237,\n",
      "       5251, 5256, 5267, 5283, 5288, 5305, 5313, 5336, 5338, 5348, 5360,\n",
      "       5367, 5397, 5408, 5413, 5420, 5424, 5431, 5441, 5505, 5559, 5562,\n",
      "       5566, 5579, 5598, 5608, 5616, 5618, 5658, 5666, 5681, 5687, 5695,\n",
      "       5708, 5715, 5717, 5726, 5739, 5741, 5750, 5751, 5752, 5755, 5756,\n",
      "       5759, 5764, 5776, 5783, 5835, 5848, 5866, 5883, 5890, 5901, 5927,\n",
      "       5935, 5942, 5958, 5963, 5966, 5982, 5986, 5999, 6012, 6013, 6058,\n",
      "       6063, 6082, 6089, 6098, 6099, 6115, 6117, 6131, 6134, 6139, 6157,\n",
      "       6161, 6172, 6178, 6184, 6190, 6196, 6215, 6230, 6233, 6242, 6258,\n",
      "       6299, 6320, 6346, 6347, 6372, 6385, 6386, 6397, 6404, 6407, 6436,\n",
      "       6439, 6444, 6450, 6462, 6465, 6498], dtype=int64),)\n"
     ]
    }
   ],
   "source": [
    "print (np.where (y_train == 0))\n",
    "# np.where will tell you the index of the elements meet the condition"
   ]
  },
  {
   "cell_type": "markdown",
   "metadata": {},
   "source": [
    "## 4.2 draw the graph of the distribution of the number"
   ]
  },
  {
   "cell_type": "code",
   "execution_count": 86,
   "metadata": {},
   "outputs": [
    {
     "name": "stdout",
     "output_type": "stream",
     "text": [
      "Class 0 :  644\n",
      "Class 1 :  673\n",
      "Class 2 :  672\n",
      "Class 3 :  647\n",
      "Class 4 :  652\n",
      "Class 5 :  638\n",
      "Class 6 :  653\n",
      "Class 7 :  624\n",
      "Class 8 :  638\n",
      "Class 9 :  661\n",
      "[644, 673, 672, 647, 652, 638, 653, 624, 638, 661]\n"
     ]
    }
   ],
   "source": [
    "numofSamples = []\n",
    "for i in range (len (myLists)) :\n",
    "    print (f\"Class {i} : \", len (np.where (y_train == i)[0]))\n",
    "    numofSamples.append (len (np.where (y_train == i)[0]))\n",
    "print (numofSamples)\n",
    "    "
   ]
  },
  {
   "cell_type": "code",
   "execution_count": 87,
   "metadata": {},
   "outputs": [
    {
     "data": {
      "image/png": "[encoded data removed]",
      "text/plain": [
       "<Figure size 1000x500 with 1 Axes>"
      ]
     },
     "metadata": {},
     "output_type": "display_data"
    },
    {
     "name": "stdout",
     "output_type": "stream",
     "text": [
      "(6502, 32, 32, 3)\n",
      "(32, 32, 3)\n"
     ]
    }
   ],
   "source": [
    "plt.figure (figsize=(10, 5))\n",
    "plt.bar (range (len (myLists)), numofSamples)\n",
    "plt.title (\"Num of Images of each Class\")\n",
    "plt.xlabel (\"Class ID\")\n",
    "plt.ylabel (\"Number of Iamges\")\n",
    "plt.show ()\n",
    "print (x_train.shape) # (6502, 32, 32)\n",
    "print (x_train[30].shape) # (32, 32, 3)"
   ]
  },
  {
   "cell_type": "markdown",
   "metadata": {},
   "source": [
    "# 05 preprocess all the images"
   ]
  },
  {
   "cell_type": "markdown",
   "metadata": {},
   "source": [
    "## 5.1 define the preprocessing function"
   ]
  },
  {
   "cell_type": "code",
   "execution_count": 88,
   "metadata": {},
   "outputs": [],
   "source": [
    "def preProcessing (img) :\n",
    "    \"\"\"\n",
    "    the function is to preprocess the imgs\n",
    "    1. convert it into gray scale\n",
    "    2. equalize the img to a normal light\n",
    "    3. normalize the img\n",
    "    \"\"\"\n",
    "    img = cv2.cvtColor (img, cv2.COLOR_BGR2GRAY)\n",
    "    # to equalize the images, get the light be equaled\n",
    "    img = cv2.equalizeHist (img)\n",
    "    # get the img normalized, setting the value within 0 to 1\n",
    "    img = img / 255\n",
    "    \n",
    "    return img\n",
    "\n",
    "# img = preProcessing (x_train[30]) # the image now is with the size of (32, 32)\n",
    "# img = cv2.resize (img, (300, 300))\n",
    "# cv2.imshow (\"Img\", img)\n",
    "# cv2.waitKey (0)"
   ]
  },
  {
   "cell_type": "markdown",
   "metadata": {},
   "source": [
    "## 5.2 use map ( ) to iterate the list by applying the function"
   ]
  },
  {
   "cell_type": "code",
   "execution_count": 89,
   "metadata": {},
   "outputs": [],
   "source": [
    "# print (list (map (preProcessing, x_train[:3])))\n",
    "# Make an iterator that computes the function using arguments from each of the iterables. \n",
    "# Stops when the shortest iterable is exhausted.\n",
    "# print (np.array (list (map (preProcessing, x_train[:3]))))"
   ]
  },
  {
   "cell_type": "code",
   "execution_count": 90,
   "metadata": {},
   "outputs": [
    {
     "name": "stdout",
     "output_type": "stream",
     "text": [
      "(6502, 32, 32)\n",
      "(32, 32)\n"
     ]
    }
   ],
   "source": [
    "x_train = np.array (list (map (preProcessing, x_train)))\n",
    "x_test = np.array (list (map (preProcessing, x_test)))\n",
    "x_validation = np.array (list (map (preProcessing, x_validation)))\n",
    "\n",
    "# img = cv2.resize (x_train[30], (300, 300))\n",
    "# cv2.imshow (\"Img\", img)\n",
    "# cv2.waitKey (0)\n",
    "\n",
    "print (x_train.shape) # (6502, 32, 32)\n",
    "print (x_train[30].shape) # (32, 32)"
   ]
  },
  {
   "cell_type": "markdown",
   "metadata": {},
   "source": [
    "## 5.3 add a depth of the img in order to meet the input condition of the convolutional neural network"
   ]
  },
  {
   "cell_type": "code",
   "execution_count": 91,
   "metadata": {},
   "outputs": [
    {
     "name": "stdout",
     "output_type": "stream",
     "text": [
      "(6502, 32, 32, 1)\n"
     ]
    }
   ],
   "source": [
    "x_train = x_train.reshape ((x_train.shape[0], x_train.shape[1], x_train.shape[2], 1))\n",
    "x_test = x_test.reshape ((x_test.shape[0], x_test.shape[1], x_test.shape[2], 1))\n",
    "x_validation = x_validation.reshape ((x_validation.shape[0], x_validation.shape[1], x_validation.shape[2], 1))\n",
    "print (x_train.shape) # (6502, 32, 32, 1)\n"
   ]
  },
  {
   "cell_type": "markdown",
   "metadata": {},
   "source": [
    "## 5.4 argument the imgs by resize, rotation, flipping, shearing, zooming"
   ]
  },
  {
   "cell_type": "code",
   "execution_count": 92,
   "metadata": {},
   "outputs": [],
   "source": [
    "dataGen = ImageDataGenerator (\n",
    "    width_shift_range=0.1,\n",
    "    height_shift_range=0.1,\n",
    "    zoom_range=0.2,\n",
    "    shear_range=0.1, # all above are percentage\n",
    "    rotation_range=10, # degree\n",
    ")\n",
    "dataGen.fit (x_train) # apply the procedure on the list"
   ]
  },
  {
   "cell_type": "markdown",
   "metadata": {},
   "source": [
    "## 5.5 turn the label into a binary vector which indicate the class"
   ]
  },
  {
   "cell_type": "code",
   "execution_count": 93,
   "metadata": {},
   "outputs": [],
   "source": [
    "y_train = to_categorical (y_train, len (myLists))\n",
    "y_test = to_categorical (y_test, len (myLists))\n",
    "y_validation = to_categorical (y_validation, len (myLists))\n",
    "# a = tf.keras.utils.to_categorical([0, 1, 2, 3], num_classes=4)\n",
    "# >>> print(a)\n",
    "# [[1. 0. 0. 0.]\n",
    "#  [0. 1. 0. 0.]\n",
    "#  [0. 0. 1. 0.]\n",
    "#  [0. 0. 0. 1.]]"
   ]
  },
  {
   "cell_type": "markdown",
   "metadata": {},
   "source": [
    "# 06 define our training model"
   ]
  },
  {
   "cell_type": "code",
   "execution_count": 94,
   "metadata": {},
   "outputs": [],
   "source": [
    "def myModel () :\n",
    "    numofFilters = 60\n",
    "    sizeofFilter1 = (5, 5)\n",
    "    sizeofFilter2 = (3, 3)\n",
    "    sizeofPool = (2, 2)\n",
    "    numofNode = 500\n",
    "    \n",
    "    model = keras.Sequential ()\n",
    "    model.add (\n",
    "        keras.layers.Conv2D (\n",
    "            numofFilters,\n",
    "            sizeofFilter1,\n",
    "            input_shape=(\n",
    "                imgDimension[0],\n",
    "                imgDimension[1],\n",
    "                1\n",
    "            ),\n",
    "            activation=\"relu\"\n",
    "        )\n",
    "    )\n",
    "    model.add (\n",
    "        keras.layers.Conv2D (\n",
    "            numofFilters,\n",
    "            sizeofFilter1,\n",
    "            activation=\"relu\"\n",
    "        )\n",
    "    )\n",
    "    model.add (\n",
    "        keras.layers.MaxPooling2D (\n",
    "            pool_size=sizeofPool\n",
    "        )\n",
    "    )\n",
    "    model.add (\n",
    "        keras.layers.Conv2D (\n",
    "            numofFilters // 2,\n",
    "            sizeofFilter2,\n",
    "            activation=\"relu\"\n",
    "        )\n",
    "    )\n",
    "    model.add (\n",
    "        keras.layers.Conv2D (\n",
    "            numofFilters // 2,\n",
    "            sizeofFilter2,\n",
    "            activation=\"relu\"\n",
    "        )\n",
    "    )\n",
    "    model.add (\n",
    "        keras.layers.MaxPooling2D (\n",
    "            pool_size=sizeofPool\n",
    "        )\n",
    "    )\n",
    "    model.add (\n",
    "        keras.layers.Dropout (0.5)\n",
    "    )\n",
    "    model.add (\n",
    "        keras.layers.Flatten ()\n",
    "    )\n",
    "    model.add (\n",
    "        keras.layers.Dense (numofNode, activation=\"relu\")\n",
    "    )\n",
    "    model.add (\n",
    "        keras.layers.Dropout (0.5)\n",
    "    )\n",
    "    model.add (\n",
    "        keras.layers.Dense (len (myLists), activation=\"softmax\")\n",
    "    )\n",
    "    model.compile (\n",
    "        optimizer=keras.optimizers.Adam (learning_rate=0.001),\n",
    "        loss=\"categorical_crossentropy\",\n",
    "        metrics=['accuracy']\n",
    "    )\n",
    "    \n",
    "    return model"
   ]
  },
  {
   "cell_type": "code",
   "execution_count": 95,
   "metadata": {},
   "outputs": [
    {
     "name": "stdout",
     "output_type": "stream",
     "text": [
      "Model: \"sequential_4\"\n",
      "_________________________________________________________________\n",
      " Layer (type)                Output Shape              Param #   \n",
      "=================================================================\n",
      " conv2d_16 (Conv2D)          (None, 28, 28, 60)        1560      \n",
      "                                                                 \n",
      " conv2d_17 (Conv2D)          (None, 24, 24, 60)        90060     \n",
      "                                                                 \n",
      " max_pooling2d_8 (MaxPoolin  (None, 12, 12, 60)        0         \n",
      " g2D)                                                            \n",
      "                                                                 \n",
      " conv2d_18 (Conv2D)          (None, 10, 10, 30)        16230     \n",
      "                                                                 \n",
      " conv2d_19 (Conv2D)          (None, 8, 8, 30)          8130      \n",
      "                                                                 \n",
      " max_pooling2d_9 (MaxPoolin  (None, 4, 4, 30)          0         \n",
      " g2D)                                                            \n",
      "                                                                 \n",
      " dropout_8 (Dropout)         (None, 4, 4, 30)          0         \n",
      "                                                                 \n",
      " flatten_4 (Flatten)         (None, 480)               0         \n",
      "                                                                 \n",
      " dense_8 (Dense)             (None, 500)               240500    \n",
      "                                                                 \n",
      " dropout_9 (Dropout)         (None, 500)               0         \n",
      "                                                                 \n",
      " dense_9 (Dense)             (None, 10)                5010      \n",
      "                                                                 \n",
      "=================================================================\n",
      "Total params: 361490 (1.38 MB)\n",
      "Trainable params: 361490 (1.38 MB)\n",
      "Non-trainable params: 0 (0.00 Byte)\n",
      "_________________________________________________________________\n",
      "None\n"
     ]
    }
   ],
   "source": [
    "model = myModel ()\n",
    "print (model.summary ())"
   ]
  },
  {
   "cell_type": "code",
   "execution_count": 96,
   "metadata": {},
   "outputs": [],
   "source": [
    "# model.fit_generator (\n",
    "#     dataGen.flow (x=x_train, y=y_train, batch_size=BATCH_SIZE),\n",
    "#     steps_per_epoch=STEPSPEREPOCH,\n",
    "#     epochs=EPOCH,\n",
    "#     validation_data=(x_validation, y_validation),\n",
    "#     shuffle=True\n",
    "# )"
   ]
  },
  {
   "cell_type": "code",
   "execution_count": 97,
   "metadata": {},
   "outputs": [
    {
     "name": "stdout",
     "output_type": "stream",
     "text": [
      "Epoch 1/20\n"
     ]
    },
    {
     "name": "stdout",
     "output_type": "stream",
     "text": [
      "102/102 [==============================] - 25s 233ms/step - loss: 2.3043 - accuracy: 0.0997 - val_loss: 2.3033 - val_accuracy: 0.0990\n",
      "Epoch 2/20\n",
      "102/102 [==============================] - 25s 246ms/step - loss: 2.3029 - accuracy: 0.0986 - val_loss: 2.3035 - val_accuracy: 0.0990\n",
      "Epoch 3/20\n",
      "102/102 [==============================] - 25s 243ms/step - loss: 2.3030 - accuracy: 0.0966 - val_loss: 2.3035 - val_accuracy: 0.0990\n",
      "Epoch 4/20\n",
      "102/102 [==============================] - 28s 278ms/step - loss: 2.3029 - accuracy: 0.1041 - val_loss: 2.3032 - val_accuracy: 0.0990\n",
      "Epoch 5/20\n",
      "102/102 [==============================] - 30s 294ms/step - loss: 2.3028 - accuracy: 0.1018 - val_loss: 2.3035 - val_accuracy: 0.0855\n",
      "Epoch 6/20\n",
      "102/102 [==============================] - 29s 282ms/step - loss: 2.3028 - accuracy: 0.0978 - val_loss: 2.3035 - val_accuracy: 0.0855\n",
      "Epoch 7/20\n",
      "102/102 [==============================] - 29s 288ms/step - loss: 2.3027 - accuracy: 0.1067 - val_loss: 2.3036 - val_accuracy: 0.0855\n",
      "Epoch 8/20\n",
      "102/102 [==============================] - 29s 285ms/step - loss: 2.3027 - accuracy: 0.1007 - val_loss: 2.3038 - val_accuracy: 0.0855\n",
      "Epoch 9/20\n",
      "102/102 [==============================] - 26s 252ms/step - loss: 2.3028 - accuracy: 0.1021 - val_loss: 2.3035 - val_accuracy: 0.0855\n",
      "Epoch 10/20\n",
      "102/102 [==============================] - 29s 281ms/step - loss: 2.3028 - accuracy: 0.1009 - val_loss: 2.3035 - val_accuracy: 0.0990\n",
      "Epoch 11/20\n",
      "102/102 [==============================] - 28s 276ms/step - loss: 2.3024 - accuracy: 0.1024 - val_loss: 2.3035 - val_accuracy: 0.0990\n",
      "Epoch 12/20\n",
      "102/102 [==============================] - 32s 312ms/step - loss: 2.3027 - accuracy: 0.1034 - val_loss: 2.3036 - val_accuracy: 0.0861\n",
      "Epoch 13/20\n",
      "102/102 [==============================] - 30s 291ms/step - loss: 2.3035 - accuracy: 0.0967 - val_loss: 2.3035 - val_accuracy: 0.0855\n",
      "Epoch 14/20\n",
      "102/102 [==============================] - 22s 217ms/step - loss: 2.3033 - accuracy: 0.0990 - val_loss: 2.3036 - val_accuracy: 0.0855\n",
      "Epoch 15/20\n",
      "102/102 [==============================] - 24s 239ms/step - loss: 2.3028 - accuracy: 0.0987 - val_loss: 2.3041 - val_accuracy: 0.0855\n",
      "Epoch 16/20\n",
      "102/102 [==============================] - 24s 236ms/step - loss: 2.3028 - accuracy: 0.1001 - val_loss: 2.3037 - val_accuracy: 0.0990\n",
      "Epoch 17/20\n",
      "102/102 [==============================] - 24s 240ms/step - loss: 2.3032 - accuracy: 0.0977 - val_loss: 2.3032 - val_accuracy: 0.0855\n",
      "Epoch 18/20\n",
      "102/102 [==============================] - 24s 237ms/step - loss: 2.3031 - accuracy: 0.0984 - val_loss: 2.3037 - val_accuracy: 0.0855\n",
      "Epoch 19/20\n",
      "102/102 [==============================] - 24s 233ms/step - loss: 2.3027 - accuracy: 0.1007 - val_loss: 2.3033 - val_accuracy: 0.0990\n",
      "Epoch 20/20\n",
      "102/102 [==============================] - 23s 223ms/step - loss: 2.3028 - accuracy: 0.1007 - val_loss: 2.3034 - val_accuracy: 0.0990\n"
     ]
    }
   ],
   "source": [
    "history = model.fit (\n",
    "            x=x_train,\n",
    "            y=y_train,\n",
    "            batch_size=64,\n",
    "            epochs=EPOCH,\n",
    "            validation_data=(x_validation, y_validation),\n",
    "            shuffle=True,\n",
    "            # steps_per_epoch=STEPSPEREPOCH\n",
    "        )"
   ]
  },
  {
   "cell_type": "markdown",
   "metadata": {},
   "source": [
    "# 07 show the result"
   ]
  },
  {
   "cell_type": "code",
   "execution_count": 98,
   "metadata": {},
   "outputs": [
    {
     "data": {
      "image/png": "[encoded data removed]",
      "text/plain": [
       "<Figure size 640x480 with 1 Axes>"
      ]
     },
     "metadata": {},
     "output_type": "display_data"
    },
    {
     "data": {
      "image/png": "[encoded data removed]",
      "text/plain": [
       "<Figure size 640x480 with 1 Axes>"
      ]
     },
     "metadata": {},
     "output_type": "display_data"
    },
    {
     "name": "stdout",
     "output_type": "stream",
     "text": [
      "64/64 [==============================] - 2s 31ms/step - loss: 2.3036 - accuracy: 0.0896\n",
      "Test Socre =  2.30360746383667\n",
      "Test Accuracy 0.08956693112850189\n"
     ]
    }
   ],
   "source": [
    "plt.figure (1)\n",
    "plt.plot (history.history['loss'])\n",
    "plt.plot (history.history['val_loss'])\n",
    "plt.legend (['training', 'validation'])\n",
    "plt.title (\"Loss\")\n",
    "plt.xlabel ('epoch')\n",
    "\n",
    "plt.figure (2)\n",
    "plt.plot (history.history['accuracy'])\n",
    "plt.plot (history.history['val_accuracy'])\n",
    "plt.legend (['training', 'validation'])\n",
    "plt.title (\"accuracy\")\n",
    "plt.xlabel ('Epoch')\n",
    "\n",
    "plt.show ()\n",
    "\n",
    "score = model.evaluate (x_test, y_test)\n",
    "print (\"Test Socre = \", score[0])\n",
    "print (\"Test Accuracy\", score[1])"
   ]
  },
  {
   "cell_type": "markdown",
   "metadata": {},
   "source": [
    "# 08 save the model"
   ]
  },
  {
   "cell_type": "code",
   "execution_count": 99,
   "metadata": {},
   "outputs": [],
   "source": [
    "pickle_out = open (\"model_trained.p\", \"wb\")\n",
    "pickle.dump (model, pickle_out)\n",
    "pickle_out.close ()"
   ]
  }
 ],
 "metadata": {
  "kernelspec": {
   "display_name": "tensorflow",
   "language": "python",
   "name": "python3"
  },
  "language_info": {
   "codemirror_mode": {
    "name": "ipython",
    "version": 3
   },
   "file_extension": ".py",
   "mimetype": "text/x-python",
   "name": "python",
   "nbconvert_exporter": "python",
   "pygments_lexer": "ipython3",
   "version": "3.8.0"
  }
 },
 "nbformat": 4,
 "nbformat_minor": 2
}
